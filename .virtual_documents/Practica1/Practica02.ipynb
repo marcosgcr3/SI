














import pandas as pd
import numpy as np
movies = pd.read_csv('movies_metadata.csv')






import pandas as pd
movies = pd.read_csv('movies_metadata.csv',dtype={ 10 : 'str'})





display(movies.head(n=4))
display(movies.tail(n=4))





ratings = pd.read_csv('ratings_small.csv')


display(ratings.head(n=4))
display(ratings.tail(n=4))





lion = movies[movies["title"] == "The Lion King"]
display(lion)





tested = 'lion king'
#Hacemos una subselección de los dos campos que nos interesan y los copiamos a otro dataframe
titles=movies[["original_title","id"]].copy();
# Nos creamos una máscara con el método applymap que nos indica que campos contienen una condición que establecemos mediante una lambda
mask = titles.applymap(lambda x:  tested.lower() in str(x).lower())
# Aplicamos la mascara para encontrar que campos nos interesan usando la función any
df1 = titles[mask.any(axis=1)]
#Any nos devuelve la fila o columna (dependiendo del axis) que al menos tenga un campo a true de la máscara. Axis 1 indica
# la columna en este caso. Si queremos devolver la fila, sería axis = 0
display(df1)





lion = movies[movies["title"] == "The Lion King"]
display(lion)





lionId = int(lion["id"].loc[lion.index[0]])
#lionId = movies[movies["title"] == "The Lion King"]["id"]
print(lionId)
ratingLion = ratings[ratings["movieId"] == lionId]
display(ratingLion)





print(ratingLion["rating"].mean())





import datetime

ratings["timestamp"] = ratings["timestamp"].apply(lambda x:  datetime.datetime.fromtimestamp(x).isoformat())
ratings.rename(columns = {'timestamp':'datetime'}, inplace = True)
display(ratings)






genre = lion["genres"].loc[lion.index[0]];
genre = genre.replace("'", "\"")
import json
genreArray = json.loads(genre)
for g in genreArray:
    print(g["name"])





def transform_genre(x):
    x = x.replace("'", "\"")
    xArr = json.loads(x)
    strOut = ""
    for g in xArr:
        strOut = strOut + g["name"] + ","
    strOut = strOut[0:-1]
    return strOut


movies["genres"] = movies["genres"].apply(transform_genre)



display(movies)





tested = "Animation"
maskGenre = movies.applymap(lambda x:  tested.lower() in str(x).lower())
animation = movies[maskGenre.any(axis=1)]
display(animation.head())
print(animation["vote_average"].mean())





numVideo = movies.groupby("video").count()
display(numVideo)





revenueVideo = movies.groupby("video")["runtime"].mean()
print(revenueVideo[revenueVideo.index[0]])
print(revenueVideo[revenueVideo.index[1]])





credits = pd.read_csv('credits.csv')
display(credits.head())





movies["id"] = movies["id"].astype(str)
credits["id"] = credits["id"].astype(str)
movie_credits = pd.merge(movies,credits,how='inner',on=('id'))
display(movie_credits)





import ast
def peliculas_por_actor(dataframe, actor):
    peliculas = []

    for index, row in dataframe.iterrows():
        # Convierte el contenido de la columna "cast" en una lista de diccionarios
        cast_list = ast.literal_eval(row["cast"])

        # Revisa si el actor está en la lista
        for actor_data in cast_list:
            if actor_data.get("name") == actor:
                peliculas.append(row["title"])
                break  # No necesitamos seguir revisando el resto del cast de esta película

    return peliculas


# Buscar películas de "Bruce Willis"
resultado = peliculas_por_actor(movie_credits, "Bruce Willis")
print("Películas de Bruce Willis:", resultado)






AnimationHomepage = animation[animation["homepage"].notnull()]
display(AnimationHomepage)
NewAnimationHomepage = pd.DataFrame({'id':AnimationHomepage['id'],
                          'homepage':AnimationHomepage["homepage"],
                          'title':AnimationHomepage["title"]})







NewAnimationHomepage.to_csv("NewAnimationHomepage.csv",index=False)








import numpy as np
from sklearn import datasets, linear_model
from sklearn.metrics import mean_squared_error, r2_score
#cargando el dataset de diabetes que incorpora sklearn.
diabetes = datasets.load_diabetes()
#usamos solo una caracteristica
diabetes_x = diabetes.data[:,np.newaxis,2]
#dividimos el dato ente entrenamiento y validación o test.
#esto es algo recurrente cuando hacemos aprendizaje máquina.

diabetes_x_train = diabetes_x[:-20] # Todos menos los 20 ultimos.

diabetes_x_test = diabetes_x[-20:] # desde el puesto 10 empezanod por le final hasta el final

# luego cogemos las clases para obtener los valores esperados.
diabetes_y_train = diabetes.target[:-20]
diabetes_y_test = diabetes.target[-20:]

#creamos la regresión lineal:
linearreg = linear_model.LinearRegression()
linearreg.fit(diabetes_x_train, diabetes_y_train)

#Comprobamos la capacidad de predicción
diabetes_y_pred = linearreg.predict(diabetes_x_test)
print("Mostramos los valores obtenidos por la regresión lineal")
print('Coeficientes: \n', linearreg.coef_)
print("MSE: %.2f"
      % mean_squared_error(diabetes_y_test, diabetes_y_pred))
print('R2: %.2f' % r2_score(diabetes_y_test, diabetes_y_pred)) #coeficiente de regresión.







import matplotlib.pyplot as plt
plt.scatter(diabetes_x_test, diabetes_y_test,  color='black')
plt.plot(diabetes_x_test, diabetes_y_pred, color='blue', linewidth=3) #en linewidth le indicamos la linea en la gráfica.
plt.xticks(())
plt.yticks(())

plt.show()





from sklearn import datasets, linear_model
from sklearn.metrics import mean_squared_error, r2_score
import numpy as np
import matplotlib.pyplot as plt
import pandas as pd

# Cargar el dataset de Boston
boston = datasets.fetch_california_housing()

# Selecionar una característica, por ejemplo, RM (Número promedio de habitaciones por vivienda)
boston_x = boston.data[:, np.newaxis, 5]  # Columna 5 corresponde a RM

# Dividir datos en entrenamiento (train) y prueba (test)
boston_x_train = boston_x[:-50]
boston_x_test = boston_x[-50:]

# Las clases objetivo (precios de vivienda)
boston_y_train = boston.target[:-50]
boston_y_test = boston.target[-50:]

# Crear un modelo de regresión lineal
linearreg = linear_model.LinearRegression()

# Entrenar el modelo con los datos de entrenamiento
linearreg.fit(boston_x_train, boston_y_train)

# Hacer predicciones en los datos de prueba
boston_y_pred = linearreg.predict(boston_x_test)

# Imprimir los coeficientes de la recta y métricas de evaluación
print("Coeficientes: ", linearreg.coef_)
print("Intercepto: ", linearreg.intercept_)
print("MSE (Error Cuadrático Medio): %.2f" % mean_squared_error(boston_y_test, boston_y_pred))
print("R2 (Coeficiente de Determinación): %.2f" % r2_score(boston_y_test, boston_y_pred))

# Dibujar la gráfica
plt.scatter(boston_x_test, boston_y_test, color='black', label="Datos reales")
plt.plot(boston_x_test, boston_y_pred, color='blue', linewidth=3, label="Recta de regresión")
plt.xlabel("Número promedio de habitaciones")
plt.ylabel("Precio medio de vivienda (MEDV)")
plt.title("Regresión Lineal en el Dataset de Boston")
plt.legend()
plt.show()






# Escribe aqui el ejercicio 3
