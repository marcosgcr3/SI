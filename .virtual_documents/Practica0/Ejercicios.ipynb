





Marcos Gomez y David Cendejas





import numpy as np
from scipy.integrate import quad


# Función auxiliar para calcular el resultado de Monte Carlo
def calcula_integral_monte_carlo(debajo, num_puntos, relacion_a_b, m):
    return (debajo / num_puntos) * relacion_a_b * m


# Función principal que evalúa la integral usando el método de Monte Carlo
def integra_mc_np(expression, a, b, num_puntos=10000):

    # Convertimos la cadena en una función evaluable
    def func(x):
        return eval(expression)

    # Largo del intervalo
    relacion_a_b = abs(b - a)

    # Valores para graficar la función
    x_vals = np.linspace(a, b, 1000)
    y_vals = func(x_vals)

    # Hallamos el máximo de la función en el intervalo
    m = max(y_vals)

    # Generamos puntos aleatorios en el intervalo
    x = np.random.uniform(a, b, num_puntos)
    y = np.random.uniform(0, m, num_puntos)

    # Contamos los puntos que están debajo de la curva
    numero_puntos_dentro = np.sum(y < func(x))

    # Calculamos la integral
    return calcula_integral_monte_carlo(numero_puntos_dentro, num_puntos, relacion_a_b, m)


# Definimos la función como una string y los límites de integración
expresion = "-x**2 + 4*x"  # Nota: corregí el formato para evitar errores
a = 0
b = 4

# Calculamos la integral con Monte Carlo
resultado_mc = integra_mc_np(expresion, a, b)
print("Resultado con Monte Carlo:", resultado_mc)


# Calculamos la integral usando scipy.integrate.quad
def func_quad(x):
    return eval(expresion)


resultado_quad, _ = quad(func_quad, a, b)  # Quad devuelve un tuple (resultado, error)
print("Resultado con scipy.integrate.quad:", resultado_quad)





'''

  def mcd(a,b):
    a = abs(a)
    b = abs(b)
    if b > a:
        a, b = b,a
    while b:
        a, b = b, a % b
    return a
'''
def mcd(a, b):

    while b != 0:
        a, b = b, a % b  # Itera reemplazando a con b y b con el residuo
    return abs(a)  # Devuelve el MCD, siempre positivo

# Función para calcular el mínimo común múltiplo (MCM)
def mcm(a, b):

    return abs(a * b) // mcd(a, b)  # Fórmula: |a * b| / MCD(a, b)







from math import pi

class Figura:
    def area(self):
        raise NotImplementedError("Este método debe ser implementado en las subclases")

    def show(self):
        raise NotImplementedError("Este método debe ser implementado en las subclases")

    def equal(self, figura):
        return isinstance(figura, self.__class__) and self.area() == figura.area()

    def order_by_area(self, figura):
        if self.area() >= figura.area():
            return self, figura
        return figura, self

class Cuadrilatero(Figura):
    def __init__(self, lado1, lado2):
        self._lado1 = lado1
        self._lado2 = lado2

    @property
    def lado1(self):
        return self._lado1

    @property
    def lado2(self):
        return self._lado2

    def area(self):
        return self._lado1 * self._lado2

    def show(self):
        print(f"Cuadrilátero con lados {self._lado1} y {self._lado2}")

class Rectangulo(Cuadrilatero):
    def __init__(self, ancho, alto):
        super().__init__(ancho, alto)

    def show(self):
        print(f"Rectángulo de ancho {self._lado1} y alto {self._lado2}")

class Rombo(Cuadrilatero):
    def __init__(self, diagonal_mayor, diagonal_menor):
        super().__init__(diagonal_mayor, diagonal_menor)

    def area(self):
        return (self._lado1 * self._lado2) / 2

    def show(self):
        print(f"Rombo con diagonales {self._lado1} y {self._lado2}")

class Triangulo(Figura):
    def __init__(self, base, altura):
        self._base = base
        self._altura = altura

    @property
    def base(self):
        return self._base

    @property
    def altura(self):
        return self._altura

    def area(self):
        return (self._base * self._altura) / 2

    def show(self):
        print(f"Triángulo con base {self._base} y altura {self._altura}")

class Circulo(Figura):
    def __init__(self, radio):
        self._radio = radio

    @property
    def radio(self):
        return self._radio

    def area(self):
        return pi * self._radio ** 2

    def show(self):
        print(f"Círculo con radio {self._radio}")


