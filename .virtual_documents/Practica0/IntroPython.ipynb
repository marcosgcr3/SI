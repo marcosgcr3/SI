











(2+3)**4
(50-5*6)/4
# Solo se muestra el resultado de la última instrucción


ancho = 20
alto = 5*9
area = ancho * alto


ancho, alto, area


area*=2


x = 1
y = 2
print('suma:', x + y)
print('resta:', x - y)
print('multiplicación:', x * y)
print('division:', x / y)
print('division entera:', x // y)
print('potencia:', y ** 10)


x = 5
x += 2
x  # El último valor de la celda se imprime por defecto


#type nos permite saber el tipo de uan variable
variableNumerica = 2
print(type(variableNumerica))








c1= "Esto es una cadena "


c2=' y esto tambien es una cadena'


frase = c1 + c2


frase


# operaciones con cadenas
mayusculas = 'antonio'.upper()
mayusculas = 'se queda con el ultimo'.upper()
print(mayusculas)
cadena_datos = '{} tiene {} años'.format('juan', 21)
print(cadena_datos)
concatenar = 'hola' + ' ' + 'mundo!'
print(concatenar)


concatenar+=" y fin.."


concatenar


frase = concatenar
frase*2


frase





frase[7]


frase[-1]


frase[3]+frase[-4]


#Operador de slicing en Python: dada una secuencia l (como por ejemplo un string), la notación l[inicio:fin] indica la subsecuencia de l que comienza en la posición de índice inicio y acaba en la posición anterior a fin.
frase[2:6]


#En la operación de _slicing_ se puede incluir un tercer argumento `l[inicio:fin:salto]`,  indicando el salto a la hora de recorrer la lista. El salto puede ser negativo, indicando recorrido desde el final.  
frase[2:7:2]


# Por defecto inicio es 0 y fin es la última posicion de la secuencia y el salto es 1.
#Si el `salto` es negativo, los valores por defecto de `inicio` y `fin` se intercambian. Es decir, si no se da `inicio`, sería la última posición, y si no se da `fin` sería la primera 
frase[0::-1]
frase[::-1]






 cad="En un lugar de La Mancha"


#el método index de la clase String busca la posicion en la que está un substring en la cadena
# y da error si no lo encuentra
cad.index("Mancha")


## ESto daría error 
#cad.index("mancha")





"Rojo y blanco y negro".split(" ")





uno =" la "
dos =" es "
print(uno,"Inteligencia",dos,"Artificial")


# La cadena c tiene 3 huecos
c="{0} por {1} es {2}"
x,y,u,z = 2,3,4,5
# format le pasa los parámetros para los 3 huecos
print(c.format(x,y,x*y))
print(c.format(u,z,u*z))





nombre = input('Dime tu nombre:') # input siempre devuelve una cadena str()
numero_entero = int(input('Dime un número entero:'))
numero_real = float(input('Dime un número real:'))
print('Nombre:', nombre, 'Entero:', numero_entero, 'Real:', numero_real)





x = 25
if x % 2 == 0:
    print('Divisible por 2')
elif x % 3 == 0:
    print('Divisible por 3')
elif x % 5 == 0:
    print('Divisible por 5')
else:
    print('Ni idea')


# condiciones compuestas
year = int(input('Introduce un año:'))
if year % 400 == 0 or (year % 4 == 0 and year % 100 != 0):
    print('bisiesto')
else:
    print('no es bisiesto')


2==2





2!=4 and 2==1





suma = 0
i = 1
while i <= 10:
    suma += i
    i += 1
suma








# El operador coma crea tuplas. Se pueden escribir o no entre paréntesis.
a = 1, 2, 3
print(a)
b = (4, 5, 6)
print(b)





# Se pueden leer sus componentes de forma individual
a[0]


# Las tuplas son inmutables.
#a[0] = 10 # ERROR!


# La asignación entre tuplas asigna campo a campo.
# (parece asignación múltiple pero es asignación entre tuplas)
a, b, c = 10, 20, 30
print(a)
print(b)
print(c)


1, # No confundir con (1), que sería simplememente el número 1


(1)


1


a=("Uno","Dos","Tres","Cuatro")


a[::1]


#inversión de una tupla
a[::-1]





# ESto dará error 
#a[1]="otro"





range(1, 10) # Representa los números del 1 al 9  >=1 y <9


# los bucles for permiten recorrer estructuras de datos
for x in range(1, 10):
    print(x)


# del 1 al 9 de 3 en 3
for x in range(1, 10, 3): 
    print(x)


# del 10 al 2 hacia abajo
for x in range(10, 1, -1):
    print(x)


# si sólo tiene una argumento es el límite superior
for x in range(3):
    print(x)








tupla=("Uno","Dos","Tres","Cuatro")
lista=["Uno","Dos","Tres","Cuatro"]


lista[0]='Otro'


lista


a = [] # Lista vacía
len(a) # Devuelve la longitud de una lista


# Pueden contener cualquier tipo de elementos combinados. 
# Se añaden elementos a la lista con append
a.append('hola')
a.append(123)
a.append(True)
a





a = ["Hola"]
a.extend([6,"que tal"])
a


# Podemos acceder y modificar sus elementos con acceso directo
a[1] += 1
a


# podemos borrar elementos a partir de su posición
del a[0]
a


# podemos borrar elementos. Si el elemento no está o la lista está vacía da error.
a.remove(7)
a


# El método pop elimina un elemento de una lista (especificando la posición, por defecto la última), y devuelve dicho elemento como valor.
# Si hacemos pop en una lista vacía da error
a.pop()


# Podemos crear listas con elementos
a = [1, 2, 3, 4]
a


# En python podemos definir listas por 'comprensión':
a = [2*x for x in range(1,10)]
a


# el bucle for permite recorrer listas
for elemento in a: 
    print(elemento)


a = list(range(1,11)) # el constructor list() crea listas
a





#El método `insert` inserta un elemento en una lista, en una posición dada
a.insert(3,"x")


a


# Usa el valor por defecto de la posicion inicial 
a[:2]


a[0:3] # selección de los 3 primeros elementos. Tambien se puede escribir a[:3]


a[1:4] # selección de los elementos en las posiciones 1, 2 y 3


a[1:6:2] # saltando de 2 en 2


a[3:0:-1] # Elementos en posiciones 3, 2, 1


a[::-1] # ver la lista al revés


a[-3:] # ultimos 3 elementos de la lista


bocadillo = ["pan", "jamon", "pan"]
bocadillo = 2*bocadillo[:2] + ["huevo"]
print(bocadillo)
bocadillo + [bocadillo[-1]]


"tomate" in bocadillo


# Un error muy común debido a que las variables en Phyton son referencias.

l=[28,1,54,6]
m=l # asignamos a m "el valor" de l
m[2]=11 # cambiamos m





m


l





l=[28,1,22,6]
m=l[:] # asignamos a m una COPIA del valor de l usando slicing 
# Estamos haciendo una copia idéntica usando los valores por defecto de inicio y fin.
m[2]=11 # cambiamos m


m


l





# definir conjuntos
dias_semana = { 'lunes', 'martes', 'miércoles', 'jueves', 'viernes', 'sábado'}


# pertenencia
'miércoles' in dias_semana


'domingo' in dias_semana


# añadir elementos
dias_semana.add('domingo')
'domingo' in dias_semana


# los elementos no se guardan ordenados
dias_semana


# no admite elementos repetidos
print(len(dias_semana)) # número de elementos
dias_semana.add('lunes')  
print(len(dias_semana))


# recorrido de conjuntos
for elemento in dias_semana:
    print(elemento)


# el constructor set() crea conjuntos
# quitar elementos repetidos de una lista
set([1,2,3,1,2,3,1,2,3])


# También se pueden definir por comprensión
cuadrados = { x**2 for x in range(1,10)}
cuadrados








dict_telefonos = {"juan": 4098, "ana": 4139}
#acceso a clave
dict_telefonos["ana"]
#añadir una nueva pareja clave/valor
dict_telefonos["pedro"]=2321
#cambiar un valor
dict_telefonos["ana"] = 4140


dict_telefonos


#borrar una pareja clave/valor
del dict_telefonos["ana"]
print(dict_telefonos)


# Contienen pares (clave, valor)
diccionario = {'uno': 'one', 'dos': 'two', 'tres': 'three', 'cuatro': 'four'}
diccionario


# acceso a elementos por clave
diccionario['uno']


# claves
diccionario.keys()


# pares (clave, valor)
diccionario.items()


# Son mutables
diccionario['cinco'] = 'five'
diccionario


# elementos
len(diccionario)


# recorrido
for clave in diccionario:
    print(clave, diccionario[clave])


for clave, valor in diccionario.items():
    print(clave, valor)





# Buscar la posición ind de un elemento en una lista. Si no se encuentra, ind=-1

ind =0
busco = "premio"
lst = ["nada","pierdo","premio","sigue"]

while ind < len(lst) and lst[ind] != busco:
    ind += 1

if ind == len(lst):
    ind=-1

ind





# Cálculo de media aritmética
l, suma, n = [1,5,8,12,3,7], 0, 0

for e in l:
    suma += e
    n +=1

suma/n


# Cálculo de números primos entre 3 y 20

primos = []
for n in range(3, 20, 2):
    for x in range(2, n):
        if n % x == 0:
            print(n, "es", x, "*", n//x)
            break
    else:
        primos.append(n)
        
primos


print('---Iteradores---')
cities = {'Madrid', 'Paris', 'Berlín', 'Roma', 'Londres', 'Dublín'}
iterador = iter(cities)
print(next(iterador))
print(next(iterador))
print(next(iterador))





preguntas = ["nombre", "apellido", "color favorito"]
respuestas = ["Juan", "Pérez", "rojo"]

for p, r in zip(preguntas, respuestas):
    print("Mi {} es {}.".format(p, r))






# Definición de una función
def resta(x, y):
    return x - y


resta(20, 5)


# podemos pasar los algumentos por posición o por nombre
resta(y=2, x=10)


# si mezclamos, los primeros tienen que pasarse por posición
resta(10, y=3)


# Los parámetros de tipos básicos se pasan por valor
def incrementa_mal(x):
    x += 1

x = 5
incrementa_mal(x)
x


# Los parámetros de tipos compuestos se pasan por variable
def add_dos(lista):
    lista.append(2)
    
l = []
add_dos(l)
l


# Las funciones sólo pueden devolver un valor (return) pero puede ser una tupla (!!!)
def suma_resta(x, y):
    return x + y, x - y

a, b, = suma_resta(10, 3)
a, b


# Los parámetros pueden tener valores por defecto
def incrementa(x, delta=1):
    return x + delta

print(incrementa(5, 2))
print(incrementa(5))





# Para usar las funciones de un módulo, primero tenemos que importarlo
import math

math.factorial(10)


# Si el nombre del módulo es muy largo y no queremos escribirlo todo el rato
# podemos darle un 'apodo'
import numpy as np

np.add([1, 2, 3], [3, 4, 5]) # suma de vectores


# También podemos importar funciones concretas y ahorranos escribir el nombre
# del módulo cuando las usemos
from math import factorial

factorial(10)


# Las bibliotecas normalmente exportan varios módulos que pueden estar anidados
import matplotlib.pyplot as plt

x = np.linspace(-10, 10, 21) # 21 valores desde el -10 hasta el 10 equidistantes
y = [e*e for e in x]
plt.plot(x, y)











import numpy as np

# convertir una lista en un array
l = [1, 2, 3, 4, 5, 6, 7, 8, 9]
a = np.array(l)
a


# cambiar la forma de un array
b = a.reshape(3,3)
b


# dimensiones
b.shape


# acceso a elementos
print(b[0,0])
print(b[0,1])
print(b[2,2])


# vistas de subarrays
b[0:2, 0:3]


# arrays inicializados, te devuelve un nuevo array de 2 filas y 5 columnas inicializado a 0 
np.zeros((2,5))


np.ones((2,5))


# devuelve una matriz diagonal 5x5 
np.eye(5,5)     


# arange devuelve un array con los valores del 1 al 9
m = np.arange(1,10).reshape(3,3)
m


# Operaciones con todos los elementos
m * 2


2 ** m


# suma de todos los elementos
m.sum()


# suma por columnas
m.sum(axis=0)


# suma por filas
m.sum(axis=1)


# producto vectorial de dos matrices
np.dot(m, m)


#Matrices
a = np.array([[0,1,2,3], [4,5,6,7], [8,9,10,11]])
rows, cols = np.shape(a)


#Inicialización de vectores
v=np.zeros((3,4))
print('Ceros ')
print(v)
print('Identidad ')
e=np.eye(4)
print(e)
print('Complex ')
#Devuelve un array de ceros 
#con la misma forma y tipos que el dado
z=np.zeros_like(b)
print(z)


a = np.arange(7)
print(a)
diagonal = np.diag(a)
print( diagonal )


#matrices dispersas
from scipy import sparse

X = np.random.random((5,6))
print(X)
X[X < 0.85] = 0 # selecciona los elementos menores de 0.85 y asigna 0
print(X)
x_csr = sparse.csr_matrix(X) #CSR (Compress sparse row)

print(x_csr)

print(x_csr.toarray())





#broadcasting
a = np.array([1.0,2.0,3.0])
b = np.array([2.0,2.0,2.0])
c = a*b
print(c)
print("--------")
a = np.array([[0.0,0.0,0.0],
              [10.0,10.0,10.0],
              [20.0,20.0,20.0],
              [30.0,30.0,30.0]])
b = np.array([1.0,2.0,3.0]) # no se debería poder sumar, ya que las dimensiones no son iguales. en este caso 
# Numpy lo que hace es aplicar b sobre a tantas veces como filas hay.
c = a + b
print(c)


#Otras operaciones interesantes
np.random.seed(12345) # determina una semilla de números eleatorios.
r=np.random.rand(4)
print(r)
rint=r.astype(int)  #cambia el tipo
print(rint)
print(np.round(r)) # redondea ( >= 0.5)

#Determinante
from scipy import linalg
arr = np.array([[1,2],[3,4]])
linalg.det(arr)

#matriz inversa
linalg.inv(arr)








#Definición de clases en python
class Rectangulo:
    def __init__(self,x,y): # constructor
        self.x = x #creación de parámetros internos
        self.y = y
        
    autor = "anonimo" # creación de parámetros de forma externa al constructor
    descripcion="esto es un rectangulo"
    
    def area(self):
        return self.x*self.y
    
    def perimetro(self, number):
        return 2*self.x*self.y
    
    def descripcion(self,text):
        self.descripcion=text
    
rectangulo1 = Rectangulo(90,35)
rectangulo2 = Rectangulo(20,11)
print(rectangulo1.area())
rectangulo1.descripcion("Rectangulo de juguete")
print(rectangulo1.descripcion)
print(rectangulo2.area())


class Polygon:
    def __init__(self, no_of_sides):
        self.n = no_of_sides
        self.sides = [0 for i in range(no_of_sides)]

    def inputSides(self):
        self.sides = [float(input("Enter side "+str(i+1)+" : ")) for i in range(self.n)]

    def dispSides(self):
        for i in range(self.n):
            print("Side",i+1,"is",self.sides[i])
            
class Triangle(Polygon):
    def __init__(self):
        Polygon.__init__(self,3)

    def findArea(self):
        a, b, c = self.sides
        # calculate the semi-perimeter
        s =(a + b + c) / 2
        area =(s*(s-a)*(s-b)*(s-c)) ** 0.5
        print('El area del triangulo es ',area)
        
t = Triangle()
t.inputSides()
t.dispSides()
t.findArea()



