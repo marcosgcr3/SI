{
 "cells": [
  {
   "cell_type": "markdown",
   "metadata": {},
   "source": [
    "## Resuelve los siguientes ejercicios en este archivo."
   ]
  },
  {
   "cell_type": "raw",
   "metadata": {},
   "source": [
    "**Nombre de los integrantes del grupo**\n"
   ]
  },
  {
   "cell_type": "code",
   "execution_count": 1,
   "metadata": {},
   "outputs": [
    {
     "ename": "SyntaxError",
     "evalue": "unmatched ')' (3191204902.py, line 1)",
     "output_type": "error",
     "traceback": [
      "\u001B[1;36m  Cell \u001B[1;32mIn[1], line 1\u001B[1;36m\u001B[0m\n\u001B[1;33m    PONED AQUI VUESTROS NOMBRES EN MARKDOWN (LA CELDA AHORA ESTÁ EN MODO CODE CON LA INTENCIÓN DE QUE NO SE OS OLVIDE PONER LOS NOMBRES :) )\u001B[0m\n\u001B[1;37m                                                                                                                                           ^\u001B[0m\n\u001B[1;31mSyntaxError\u001B[0m\u001B[1;31m:\u001B[0m unmatched ')'\n"
     ]
    }
   ],
   "source": [
    "PONED AQUI VUESTROS NOMBRES EN MARKDOWN (LA CELDA AHORA ESTÁ EN MODO CODE CON LA INTENCIÓN DE QUE NO SE OS OLVIDE PONER LOS NOMBRES :) )"
   ]
  },
  {
   "cell_type": "markdown",
   "metadata": {},
   "source": [
    "**_Ejercicio 1_**. En esta primera práctica has de implementar un algoritmo de integración numérica basado\n",
    "en el método de Monte Carlo.\n",
    "Dada una función real e integrable de una sola variable f(x), y su integral F(x), la integral\n",
    "definida de f(x) entre a y b viene dada por la expresión\n",
    "\n",
    "<img src=\"Integral.jpg\">\n",
    "\n",
    "Como el cálculo simbólico de la integral F(x) puede ser muy difícil, se utilizan métodos numéricos\n",
    "que aproximan su valor utilizando la interpretación geométrica de la integral definida que se\n",
    "corresponde con el área bajo la curva f(x) entre a y b.\n",
    "Dada una función f(x) positiva en el intervalo x 2 [a; b] cuyo valor máximo es M dentro de\n",
    "ese intervalo, podemos definir un rectángulo de área (b - a) x M como el que se muestra en la\n",
    "figura para el intervalo [0; 2]. El método de Monte Carlo para el cálculo de la integral consiste\n",
    "en generar aleatoriamente puntos (en rojo en la figura) dentro de ese rectángulo y aproximar el\n",
    "valor de la integral por el porcentaje de puntos que caen por debajo de la función en cuestión:\n",
    "\n",
    "<img src=\"Integral2.jpg\">\n",
    "\n",
    "donde Ndebajo es el número de puntos (x; y) generados aleatoriamente cuya coordenada y es\n",
    "menor que el valor de la función f(x) para ese valor de x y Ntotal es el número total de puntos\n",
    "generados aleatoriamente dentro del rectángulo.\n",
    "\n",
    "Implementa en Python una función con la siguiente cabecera\n",
    "\n",
    "def integra_mc(fun, a, b, num_puntos=10000)\n",
    "\n",
    "Que calcule la integral de fun entre a y b por el método de Monte Carlo antes descrito, generando\n",
    "para ello num_puntos aleatoriamente. Puedes comprobar la corrección del resultado obtenido,\n",
    "comparándolo con el de aplicar la función scip.integrate.quad de Python.\n",
    "No es necesario que tu implementación resuelva el problema de forma general, es suficiente\n",
    "con que calcule el resultado para una función definida por ti que sea >= 0 en el intervalo [a; b] y\n",
    "que se pueda aplicar tanto a un número como a un array de numpy. Por ejemplo -x^(2)+ 4x en el intervalo [0; 4]\n",
    "\n",
    "<img src=\"Integral3.jpg\">"
   ]
  },
  {
   "cell_type": "code",
   "execution_count": null,
   "metadata": {},
   "outputs": [],
   "source": [
    "import matplotlib.pyplot as plt\n",
    "def get_x_points(lower_limit, upper_limit, n):\n",
    "    x_points = []\n",
    "    x_step = (upper_limit - lower_limit) / n\n",
    "    pos = lower_limit\n",
    "    while pos < upper_limit:\n",
    "        x_points.append(pos)\n",
    "        pos += x_step\n",
    "\n",
    "    return x_points\n",
    "\n",
    "\n",
    "# Método para obtener puntos aleatorios dentro de nuestro marco (el rectangulo de (a-b)*M).\n",
    "# Estos puntos los catalogamos como interiores o exteriores, de manera que nos facilite el cálculo y el representado posterior.\n",
    "# Para obtener el número de puntos que caen dentro, solo necesitamos saber el número de elementos que tiene el array random_points_?_dentro.\n",
    "
def integra_mc_np(expression, a, b, num_puntos=10000):
    # Convertimos la función string a función evaluable
    func = lambda x: eval(expression)
    relacion_a_b = abs(a - b)

    # Graficar la función y los puntos
    x_vals = np.linspace(a, b, 1000)
    y_vals = func(x_vals)
    m = max(y_vals)

    x = np.random.uniform(a, b, num_puntos)
    y = np.random.uniform(0, max(func(x)), num_puntos)


    numero_puntos_dentro = len(y[y < func(x)])
    plt.plot(x_vals, y_vals, 'b', label=f'Función {expression}')
    plt.xlim(a, b)
    plt.ylim(0, m)
    plt.scatter(x, y, s=1, color='g', label='Puntos debajo de f')
    plt.scatter(x[y > func(x)], y[y > func(x)], s=1, color='r', label='Puntos encima de f')
    plt.title('Método de integración por Monte Carlo (Numpy)')
    plt.xlabel('x')
    plt.ylabel('y')
    plt.legend(bbox_to_anchor=(1.05, 1))
    plt.show()

    return calcula_integral_monte_carlo(numero_puntos_dentro, num_puntos, relacion_a_b, m)
   ]
  },
  {
   "cell_type": "markdown",
   "metadata": {},
   "source": [
    "**Ejercicio 2:** Crea dos funciones en Python que calcule el mínimo común múltiplo de dos números y el máximo común divisor de dos números."
   ]
  },
  {
   "metadata": {
    "jupyter": {
     "is_executing": true
    }
   },
   "cell_type": "code",
   "source": [
    "from math import gcd\n",
    "\n",
    "def minimo_comun_multiplo(a, b):\n",
    "    return abs(a * b) // gcd(a, b)\n",
    "\n",
    "def maximo_comun_divisor(a, b):\n",
    "    return gcd(a, b)\n"
   ],
   "outputs": [],
   "execution_count": null
  },
  {
   "cell_type": "markdown",
   "metadata": {},
   "source": [
    "**Ejericico 3:** Crea usando POO la clase Figura y que hereden de ella la clase Cuadrilatero, Rectangulo, Rombo, Triangulo y Circulo. Usa la lógica para contruir las relaciones Es-Un de todas las clases. El código debe respetar las buenas prácticas de POO como por ejemplo encapsulacón, no repetir código innecesario, etc.\n",
    "\n",
    "Las clases deben tener los siguientes métodos:\n",
    "- Show() muestra la figura. Podeis optar por mostrarla usando alguna librería gráfica o simplemente por consola mostrando los valores de sus atributos.\n",
    "- Area() devuelve el área de la figura.\n",
    "- Equal(figura) devuelve True si dos figuras son iguales. Para que dós figuras sean iguales deben ser del mismo tipo, y además tener la misma forma (mismo área y dimensiones)\n",
    "- OrderByArea(figura) devuelve dos figuras, la actual y la que se le pasa por parámetro, pero la primera será la que magor área tiene y la segunda la que menor área tiene. Utiiza la habilidad de Python para devolver más de una valor en una función."
   ]
  },
  {
   "cell_type": "code",
   "execution_count": null,
   "metadata": {},
   "outputs": [],
   "source": [
    "\n",
    "from math import pi\n",
    "\n",
    "class Figura:\n",
    "    def area(self):\n",
    "        raise NotImplementedError(\"Este método debe ser implementado en las subclases\")\n",
    "\n",
    "    def show(self):\n",
    "        raise NotImplementedError(\"Este método debe ser implementado en las subclases\")\n",
    "\n",
    "    def equal(self, figura):\n",
    "        return isinstance(figura, self.__class__) and self.area() == figura.area()\n",
    "\n",
    "    def order_by_area(self, figura):\n",
    "        if self.area() >= figura.area():\n",
    "            return self, figura\n",
    "        return figura, self\n",
    "\n",
    "class Cuadrilatero(Figura):\n",
    "    def __init__(self, lado1, lado2):\n",
    "        self._lado1 = lado1\n",
    "        self._lado2 = lado2\n",
    "\n",
    "    @property\n",
    "    def lado1(self):\n",
    "        return self._lado1\n",
    "\n",
    "    @property\n",
    "    def lado2(self):\n",
    "        return self._lado2\n",
    "\n",
    "    def area(self):\n",
    "        return self._lado1 * self._lado2\n",
    "\n",
    "    def show(self):\n",
    "        print(f\"Cuadrilátero con lados {self._lado1} y {self._lado2}\")\n",
    "\n",
    "class Rectangulo(Cuadrilatero):\n",
    "    def __init__(self, ancho, alto):\n",
    "        super().__init__(ancho, alto)\n",
    "\n",
    "    def show(self):\n",
    "        print(f\"Rectángulo de ancho {self._lado1} y alto {self._lado2}\")\n",
    "\n",
    "class Rombo(Cuadrilatero):\n",
    "    def __init__(self, diagonal_mayor, diagonal_menor):\n",
    "        super().__init__(diagonal_mayor, diagonal_menor)\n",
    "\n",
    "    def area(self):\n",
    "        return (self._lado1 * self._lado2) / 2\n",
    "\n",
    "    def show(self):\n",
    "        print(f\"Rombo con diagonales {self._lado1} y {self._lado2}\")\n",
    "\n",
    "class Triangulo(Figura):\n",
    "    def __init__(self, base, altura):\n",
    "        self._base = base\n",
    "        self._altura = altura\n",
    "\n",
    "    @property\n",
    "    def base(self):\n",
    "        return self._base\n",
    "\n",
    "    @property\n",
    "    def altura(self):\n",
    "        return self._altura\n",
    "\n",
    "    def area(self):\n",
    "        return (self._base * self._altura) / 2\n",
    "\n",
    "    def show(self):\n",
    "        print(f\"Triángulo con base {self._base} y altura {self._altura}\")\n",
    "\n",
    "class Circulo(Figura):\n",
    "    def __init__(self, radio):\n",
    "        self._radio = radio\n",
    "\n",
    "    @property\n",
    "    def radio(self):\n",
    "        return self._radio\n",
    "\n",
    "    def area(self):\n",
    "        return pi * self._radio ** 2\n",
    "\n",
    "    def show(self):\n",
    "        print(f\"Círculo con radio {self._radio}\")\n",
    "\n"
   ]
  }
 ],
 "metadata": {
  "kernelspec": {
   "display_name": "Python 3 (ipykernel)",
   "language": "python",
   "name": "python3"
  },
  "language_info": {
   "codemirror_mode": {
    "name": "ipython",
    "version": 3
   },
   "file_extension": ".py",
   "mimetype": "text/x-python",
   "name": "python",
   "nbconvert_exporter": "python",
   "pygments_lexer": "ipython3",
   "version": "3.11.5"
  }
 },
 "nbformat": 4,
 "nbformat_minor": 4
}
